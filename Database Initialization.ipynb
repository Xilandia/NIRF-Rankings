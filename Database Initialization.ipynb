{
 "cells": [
  {
   "cell_type": "code",
   "execution_count": null,
   "id": "a3b21461",
   "metadata": {},
   "outputs": [],
   "source": [
    "from cassandra.cluster import Cluster"
   ]
  },
  {
   "cell_type": "code",
   "execution_count": null,
   "id": "777792e3",
   "metadata": {},
   "outputs": [],
   "source": [
    "cluster = Cluster(['localhost'])"
   ]
  },
  {
   "cell_type": "code",
   "execution_count": null,
   "id": "f74346e5",
   "metadata": {},
   "outputs": [],
   "source": [
    "create_keyspace = \"\"\"\n",
    "CREATE KEYSPACE IF NOT EXISTS nirf WITH replication = {\n",
    "    'class': 'SimpleStrategy',\n",
    "    'replication_factor': 1\n",
    "};\n",
    "\"\"\"\n",
    "session = cluster.connect()\n",
    "session.execute(create_keyspace)\n",
    "session.shutdown()\n",
    "session = cluster.connect('nirf')"
   ]
  },
  {
   "cell_type": "code",
   "execution_count": null,
   "id": "abc6d81e",
   "metadata": {},
   "outputs": [],
   "source": [
    "nirf_score_by_faculty = \"\"\"\n",
    "CREATE TABLE nirf_score_by_faculty (\n",
    "    faculty_name TEXT,\n",
    "    discipline TEXT,\n",
    "    year int,\n",
    "    rank int,\n",
    "    aggregated_score float,\n",
    "    teaching_learning_and_resources float,\n",
    "    research_and_professional_practice float,\n",
    "    graduation_outcomes float,\n",
    "    outreach_and_inclusivity float,\n",
    "    peer_perception float,\n",
    "    PRIMARY KEY ((faculty_name, discipline), year)\n",
    ");\n",
    "\"\"\"\n",
    "\n",
    "faculties_list = \"\"\"\n",
    "CREATE TABLE faculties_list (\n",
    "    faculty_name TEXT PRIMARY KEY\n",
    ");\n",
    "\"\"\"\n",
    "\n",
    "nirf_score_change_by_prior_perception = \"\"\"\n",
    "CREATE TABLE nirf_score_change_by_prior_perception (\n",
    "    discipline TEXT,\n",
    "    rounded_prior_perception int,\n",
    "    faculty_improved boolean,\n",
    "    change_in_teaching_learning_and_resources float,\n",
    "    change_in_research_and_professional_practice float,\n",
    "    change_in_graduation_outcomes float,\n",
    "    change_in_outreach_and_inclusivity float,\n",
    "    change_in_peer_perception float,\n",
    "    PRIMARY KEY ((rounded_prior_perception, discipline), change_in_peer_perception)\n",
    ");\n",
    "\"\"\"\n",
    "\n",
    "nirf_score_change_by_post_perception = \"\"\"\n",
    "CREATE TABLE nirf_score_change_by_post_perception (\n",
    "    discipline TEXT,\n",
    "    rounded_post_perception int,\n",
    "    faculty_improved boolean,\n",
    "    change_in_teaching_learning_and_resources float,\n",
    "    change_in_research_and_professional_practice float,\n",
    "    change_in_graduation_outcomes float,\n",
    "    change_in_outreach_and_inclusivity float,\n",
    "    change_in_peer_perception float,\n",
    "    PRIMARY KEY ((rounded_post_perception, discipline), change_in_peer_perception)\n",
    ");\n",
    "\"\"\""
   ]
  },
  {
   "cell_type": "code",
   "execution_count": null,
   "id": "2931cb87",
   "metadata": {
    "scrolled": true
   },
   "outputs": [],
   "source": [
    "session.execute(nirf_score_by_faculty)\n",
    "session.execute(faculties_list)\n",
    "session.execute(nirf_score_change_by_prior_perception)\n",
    "session.execute(nirf_score_change_by_post_perception)"
   ]
  },
  {
   "cell_type": "code",
   "execution_count": null,
   "id": "2f5d1fd7",
   "metadata": {},
   "outputs": [],
   "source": [
    "disciplines = [\n",
    "    'Architecture',\n",
    "    'College',\n",
    "    'Dental',\n",
    "    'Engineering',\n",
    "    'Law',\n",
    "    'Management',\n",
    "    'Medical',\n",
    "    'Overall',\n",
    "    'Pharmacy',\n",
    "    'Research',\n",
    "    'University'\n",
    "]"
   ]
  },
  {
   "cell_type": "code",
   "execution_count": null,
   "id": "badf91f2",
   "metadata": {},
   "outputs": [],
   "source": [
    "for discipline in disciplines:\n",
    "    create_nirf_score_table_query = f\"\"\"\n",
    "    CREATE TABLE nirf_score_by_faculty_for_{discipline} (\n",
    "        faculty_name TEXT,\n",
    "        year int,\n",
    "        rank int,\n",
    "        aggregated_score float,\n",
    "        teaching_learning_and_resources float,\n",
    "        research_and_professional_practice float,\n",
    "        graduation_outcomes float,\n",
    "        outreach_and_inclusivity float,\n",
    "        peer_perception float,\n",
    "        PRIMARY KEY (faculty_name, year)\n",
    "    );\n",
    "    \"\"\"\n",
    "    create_prior_perception_table_query = f\"\"\"\n",
    "    CREATE TABLE nirf_score_change_by_prior_perception_for_{discipline} (\n",
    "        rounded_prior_perception int,\n",
    "        faculty_improved boolean,\n",
    "        change_in_teaching_learning_and_resources float,\n",
    "        change_in_research_and_professional_practice float,\n",
    "        change_in_graduation_outcomes float,\n",
    "        change_in_outreach_and_inclusivity float,\n",
    "        change_in_peer_perception float,\n",
    "        PRIMARY KEY (rounded_prior_perception, change_in_peer_perception)\n",
    "    );\n",
    "    \"\"\"\n",
    "    session.execute(create_nirf_score_table_query)\n",
    "    session.execute(create_prior_perception_table_query)"
   ]
  },
  {
   "cell_type": "code",
   "execution_count": null,
   "id": "b1f54065",
   "metadata": {},
   "outputs": [],
   "source": []
  }
 ],
 "metadata": {
  "kernelspec": {
   "display_name": "Python 3 (ipykernel)",
   "language": "python",
   "name": "python3"
  },
  "language_info": {
   "codemirror_mode": {
    "name": "ipython",
    "version": 3
   },
   "file_extension": ".py",
   "mimetype": "text/x-python",
   "name": "python",
   "nbconvert_exporter": "python",
   "pygments_lexer": "ipython3",
   "version": "3.11.0"
  }
 },
 "nbformat": 4,
 "nbformat_minor": 5
}
