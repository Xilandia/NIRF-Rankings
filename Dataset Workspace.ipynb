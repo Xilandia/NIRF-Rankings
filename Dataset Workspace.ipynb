{
 "cells": [
  {
   "cell_type": "code",
   "execution_count": 25,
   "id": "0ed81000",
   "metadata": {},
   "outputs": [],
   "source": [
    "from cassandra.cluster import Cluster\n",
    "import csv\n",
    "import pandas as pd"
   ]
  },
  {
   "cell_type": "code",
   "execution_count": 20,
   "id": "de6eb6c0",
   "metadata": {},
   "outputs": [],
   "source": [
    "cluster = Cluster(['localhost'])  # Replace with your Cassandra instance address\n",
    "session = cluster.connect('nirf')  # Replace with your keyspace name"
   ]
  },
  {
   "cell_type": "code",
   "execution_count": 21,
   "id": "1b869f54",
   "metadata": {},
   "outputs": [],
   "source": [
    "insert_stmt = session.prepare(\"\"\"\n",
    "    INSERT INTO nirf_score_by_faculty (\n",
    "        faculty_id, faculty_name, year, rank, aggregated_score, \n",
    "        teaching_learning_and_resources, research_and_professional_practice, \n",
    "        graduation_outcomes, outreach_and_inclusivity, peer_perception\n",
    "    ) VALUES (?, ?, ?, ?, ?, ?, ?, ?, ?, ?)\n",
    "\"\"\")\n"
   ]
  },
  {
   "cell_type": "code",
   "execution_count": 36,
   "id": "f191a5a9",
   "metadata": {},
   "outputs": [],
   "source": [
    "with open('/Users/omersegal/University/Year 3/Semester 1/Big Data Platform/Homework/Exercise 1/NIRF-Rankings/Dataset/2016/EngineeringRanking_2016.csv', 'r') as csvfile:  # Replace with your dataset file\n",
    "    reader = csv.reader(csvfile)\n",
    "    next(reader, None)  # Skip the header row\n",
    "    for row in reader:\n",
    "        session.execute(insert_stmt, (row[0], row[1], 2016, int(row[5]), float(row[4]), float(row[6]), float(row[7]), float(row[8]), float(row[9]), float(row[10])))"
   ]
  },
  {
   "cell_type": "code",
   "execution_count": 43,
   "id": "5ccb7bf0",
   "metadata": {},
   "outputs": [],
   "source": [
    "# make path relative and not absolute (for ingestion)\n",
    "# add external for loop to iterate across years"
   ]
  },
  {
   "cell_type": "code",
   "execution_count": 62,
   "id": "616fd848",
   "metadata": {},
   "outputs": [],
   "source": [
    "cluster.shutdown()"
   ]
  },
  {
   "cell_type": "code",
   "execution_count": 59,
   "id": "87a1a57a",
   "metadata": {},
   "outputs": [],
   "source": [
    "result_set = session.execute(\"\"\"\n",
    "    SELECT * FROM nirf_score_by_faculty;\n",
    "\"\"\")\n",
    "df = pd.DataFrame(list(result_set))\n",
    "df = df.round(2)"
   ]
  },
  {
   "cell_type": "code",
   "execution_count": null,
   "id": "34343564",
   "metadata": {},
   "outputs": [],
   "source": [
    "df"
   ]
  },
  {
   "cell_type": "code",
   "execution_count": null,
   "id": "270600ef",
   "metadata": {},
   "outputs": [],
   "source": [
    "import matplotlib.pyplot as plt\n",
    "import seaborn as sns\n",
    "\n",
    "# Assuming your dataframe is named df\n",
    "\n",
    "# List of score columns to compare with peer_perception\n",
    "score_columns = ['teaching_learning_and_resources', 'research_and_professional_practice', 'graduation_outcomes', 'outreach_and_inclusivity']\n",
    "\n",
    "# Scatter plots\n",
    "for col in score_columns:\n",
    "    sns.scatterplot(data=df, x='peer_perception', y=col)\n",
    "    plt.title(f'Peer Perception vs {col}')\n",
    "    plt.xlabel('Peer Perception')\n",
    "    plt.ylabel(col)\n",
    "    plt.show()\n",
    "\n",
    "# Correlation heatmap\n",
    "correlation_matrix = df[['peer_perception'] + score_columns].corr()\n",
    "sns.heatmap(correlation_matrix, annot=True, cmap='coolwarm')\n",
    "plt.title('Correlation Heatmap')\n",
    "plt.show()\n"
   ]
  },
  {
   "cell_type": "markdown",
   "id": "160c8db5",
   "metadata": {},
   "source": [
    "## Database Schema"
   ]
  },
  {
   "cell_type": "code",
   "execution_count": null,
   "id": "aac79fff",
   "metadata": {},
   "outputs": [],
   "source": [
    "CREATE KEYSPACE IF NOT EXISTS nirf WITH replication = {\n",
    "    'class': 'SimpleStrategy',\n",
    "    'replication_factor': 1\n",
    "};"
   ]
  },
  {
   "cell_type": "code",
   "execution_count": null,
   "id": "81e9bd9b",
   "metadata": {},
   "outputs": [],
   "source": [
    "DESCRIBE keyspaces;"
   ]
  },
  {
   "cell_type": "code",
   "execution_count": null,
   "id": "3a7d0d08",
   "metadata": {},
   "outputs": [],
   "source": [
    "USE nirf;"
   ]
  },
  {
   "cell_type": "code",
   "execution_count": null,
   "id": "0c948377",
   "metadata": {},
   "outputs": [],
   "source": [
    "CREATE TABLE nirf_score_by_faculty (\n",
    "    faculty_id TEXT,\n",
    "    faculty_name TEXT,\n",
    "    year int,\n",
    "    rank int,\n",
    "    aggregated_score float,\n",
    "    teaching_learning_and_resources float,\n",
    "    research_and_professional_practice float,\n",
    "    graduation_outcomes float,\n",
    "    outreach_and_inclusivity float,\n",
    "    peer_perception float,\n",
    "    PRIMARY KEY (faculty_id, year)\n",
    ");"
   ]
  },
  {
   "cell_type": "code",
   "execution_count": null,
   "id": "0220b541",
   "metadata": {},
   "outputs": [],
   "source": []
  }
 ],
 "metadata": {
  "kernelspec": {
   "display_name": "Python 3 (ipykernel)",
   "language": "python",
   "name": "python3"
  },
  "language_info": {
   "codemirror_mode": {
    "name": "ipython",
    "version": 3
   },
   "file_extension": ".py",
   "mimetype": "text/x-python",
   "name": "python",
   "nbconvert_exporter": "python",
   "pygments_lexer": "ipython3",
   "version": "3.11.0"
  }
 },
 "nbformat": 4,
 "nbformat_minor": 5
}
