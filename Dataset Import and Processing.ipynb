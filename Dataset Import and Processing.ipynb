{
 "cells": [
  {
   "cell_type": "code",
   "execution_count": null,
   "id": "0ed81000",
   "metadata": {},
   "outputs": [],
   "source": [
    "from cassandra.cluster import Cluster\n",
    "import csv\n",
    "import pandas as pd\n",
    "import os\n",
    "import glob\n",
    "import matplotlib.pyplot as plt\n",
    "import seaborn as sns"
   ]
  },
  {
   "cell_type": "code",
   "execution_count": null,
   "id": "de6eb6c0",
   "metadata": {},
   "outputs": [],
   "source": [
    "cluster = Cluster(['localhost'])\n",
    "session = cluster.connect('nirf')"
   ]
  },
  {
   "cell_type": "code",
   "execution_count": null,
   "id": "86fa91f3",
   "metadata": {},
   "outputs": [],
   "source": [
    "disciplines = [\n",
    "    'Architecture',\n",
    "    'College',\n",
    "    'Dental',\n",
    "    'Engineering',\n",
    "    'Law',\n",
    "    'Management',\n",
    "    'Medical',\n",
    "    'Overall',\n",
    "    'Pharmacy',\n",
    "    'Research',\n",
    "    'University'\n",
    "]"
   ]
  },
  {
   "cell_type": "code",
   "execution_count": null,
   "id": "1b869f54",
   "metadata": {},
   "outputs": [],
   "source": [
    "nirf_score_insert_stmt = session.prepare(\"\"\"\n",
    "    INSERT INTO nirf_score_by_faculty (\n",
    "        faculty_name, discipline, year, rank, aggregated_score, \n",
    "        teaching_learning_and_resources, research_and_professional_practice, \n",
    "        graduation_outcomes, outreach_and_inclusivity, peer_perception\n",
    "    ) VALUES (?, ?, ?, ?, ?, ?, ?, ?, ?, ?)\n",
    "\"\"\")\n",
    "\n",
    "faculty_list_insert_stmt = session.prepare(\"\"\"\n",
    "    INSERT INTO faculties_list (faculty_name) VALUES (?)\n",
    "\"\"\")\n",
    "\n",
    "nirf_score_change_prior_insert_stmt = session.prepare(\"\"\"\n",
    "    INSERT INTO nirf_score_change_by_prior_perception (\n",
    "        discipline, rounded_prior_perception, faculty_improved, change_in_teaching_learning_and_resources,\n",
    "        change_in_research_and_professional_practice, change_in_graduation_outcomes,\n",
    "        change_in_outreach_and_inclusivity, change_in_peer_perception\n",
    "    ) VALUES (?, ?, ?, ?, ?, ?, ?, ?)\n",
    "\"\"\")\n",
    "\n",
    "nirf_score_change_post_insert_stmt = session.prepare(\"\"\"\n",
    "    INSERT INTO nirf_score_change_by_post_perception (\n",
    "        discipline, rounded_post_perception, faculty_improved, change_in_teaching_learning_and_resources,\n",
    "        change_in_research_and_professional_practice, change_in_graduation_outcomes,\n",
    "        change_in_outreach_and_inclusivity, change_in_peer_perception\n",
    "    ) VALUES (?, ?, ?, ?, ?, ?, ?, ?)\n",
    "\"\"\")\n",
    "\n",
    "get_all_information_for_faculty = session.prepare(\"\"\"\n",
    "    SELECT * FROM nirf_score_by_faculty WHERE faculty_name=? AND discipline=?\n",
    "\"\"\")"
   ]
  },
  {
   "cell_type": "code",
   "execution_count": null,
   "id": "32b51a80",
   "metadata": {},
   "outputs": [],
   "source": [
    "# This cell is intended to clean the data to prevent issues when importing into Cassandra.\n",
    "# Specifically, we check to make sure that we do not have duplicate institute names within the same discipline and year.\n",
    "# Additionally, we check to make sure that each entry has a valid rank.\n",
    "\n",
    "script_dir = %pwd\n",
    "base_path = os.path.join(script_dir, 'Dataset')\n",
    "\n",
    "for dirpath, dirnames, files in os.walk(base_path):\n",
    "    if dirpath == base_path:\n",
    "        continue\n",
    "\n",
    "    for file in glob.glob(os.path.join(dirpath, '*Ranking_*.csv')):\n",
    "        df = pd.read_csv(file)\n",
    "        duplicate_names = df[df.duplicated('Institute Name', keep=False)]['Institute Name'].unique()\n",
    "        for name in duplicate_names:\n",
    "            df.loc[df['Institute Name'] == name, 'Institute Name'] = df['Institute Name'] + ' ' + df['City']\n",
    "        df['Rank'] = df['Rank'].astype(str).str.extract('(\\d+)')[0].fillna(-1).astype(int)\n",
    "        df.to_csv(file, index=False)"
   ]
  },
  {
   "cell_type": "code",
   "execution_count": null,
   "id": "cd214070",
   "metadata": {},
   "outputs": [],
   "source": [
    "script_dir = %pwd\n",
    "base_path = os.path.join(script_dir, 'Dataset')\n",
    "\n",
    "for dirpath, dirnames, files in os.walk(base_path):\n",
    "    if dirpath == base_path:\n",
    "        continue\n",
    "\n",
    "    for file in glob.glob(os.path.join(dirpath, '*Ranking_*.csv')):\n",
    "        filename = os.path.basename(file)\n",
    "        faculty, year_part = filename.split('Ranking_')\n",
    "        year = year_part.split('.')[0]\n",
    "\n",
    "        nirf_score_specific_insert_stmt = session.prepare(f\"\"\"\n",
    "        INSERT INTO nirf_score_by_faculty_for_{faculty} (\n",
    "            faculty_name, year, rank, aggregated_score, \n",
    "            teaching_learning_and_resources, research_and_professional_practice, \n",
    "            graduation_outcomes, outreach_and_inclusivity, peer_perception\n",
    "        ) VALUES (?, ?, ?, ?, ?, ?, ?, ?, ?)\n",
    "        \"\"\")\n",
    "        \n",
    "        with open(file, 'r') as csvfile:\n",
    "            reader = csv.reader(csvfile)\n",
    "            next(reader, None)\n",
    "            for row in reader:\n",
    "                session.execute(nirf_score_insert_stmt, (row[1], faculty, int(year), int(row[5]), float(row[4]), float(row[6]), float(row[7]), float(row[8]), float(row[9]), float(row[10])))\n",
    "                session.execute(faculty_list_insert_stmt, (row[1],))\n",
    "                session.execute(nirf_score_specific_insert_stmt, (row[1], int(year), int(row[5]), float(row[4]), float(row[6]), float(row[7]), float(row[8]), float(row[9]), float(row[10])))"
   ]
  },
  {
   "cell_type": "code",
   "execution_count": null,
   "id": "4ce270da",
   "metadata": {
    "scrolled": true
   },
   "outputs": [],
   "source": [
    "rows = session.execute(\"\"\"\n",
    "    SELECT * FROM faculties_list;\n",
    "\"\"\")\n",
    "\n",
    "for row in rows:\n",
    "    faculty_name = row[0]\n",
    "    for discipline in disciplines:\n",
    "        information = session.execute(get_all_information_for_faculty, [faculty_name, discipline])\n",
    "        if information:\n",
    "            df = pd.DataFrame(list(information))\n",
    "            df = df.round(2)\n",
    "            num_rows, _ = df.shape\n",
    "    \n",
    "            nirf_score_change_prior_specific_insert_stmt = session.prepare(f\"\"\"\n",
    "            INSERT INTO nirf_score_change_by_prior_perception_for_{discipline} (\n",
    "                rounded_prior_perception, faculty_improved, change_in_teaching_learning_and_resources,\n",
    "                change_in_research_and_professional_practice, change_in_graduation_outcomes,\n",
    "                change_in_outreach_and_inclusivity, change_in_peer_perception\n",
    "            ) VALUES (?, ?, ?, ?, ?, ?, ?)\n",
    "            \"\"\")\n",
    "    \n",
    "            for j in range (0, num_rows - 1):\n",
    "                n = df.iloc[j]\n",
    "                np = df.iloc[j+1]\n",
    "                delta_tlr = np[9] - n[9]\n",
    "                delta_rpp = np[8] - n[8]\n",
    "                delta_go = np[4] - n[4]\n",
    "                delta_oi = np[5] - n[5]\n",
    "                delta_pp = np[6] - n[6]\n",
    "                session.execute(nirf_score_change_prior_insert_stmt, (discipline, int(n[6]), delta_pp>0, delta_tlr, delta_rpp, delta_go, delta_oi, delta_pp))\n",
    "                session.execute(nirf_score_change_post_insert_stmt, (discipline, int(np[6]), delta_pp>0, delta_tlr, delta_rpp, delta_go, delta_oi, delta_pp))\n",
    "                session.execute(nirf_score_change_prior_specific_insert_stmt, (int(n[6]), delta_pp>0, delta_tlr, delta_rpp, delta_go, delta_oi, delta_pp))"
   ]
  },
  {
   "cell_type": "markdown",
   "id": "6a58ddde",
   "metadata": {},
   "source": [
    "## Dataset As a Whole"
   ]
  },
  {
   "cell_type": "code",
   "execution_count": null,
   "id": "bc9517c6",
   "metadata": {},
   "outputs": [],
   "source": [
    "def format_column_name(col):\n",
    "    return ' '.join(word.capitalize() for word in col.split('_'))"
   ]
  },
  {
   "cell_type": "code",
   "execution_count": null,
   "id": "0be0e09a",
   "metadata": {},
   "outputs": [],
   "source": [
    "# Query that retrieves data to be presented in the following cells.\n",
    "result_set = session.execute(\"\"\"\n",
    "    SELECT * FROM nirf_score_change_by_prior_perception;\n",
    "\"\"\")\n",
    "df = pd.DataFrame(list(result_set))"
   ]
  },
  {
   "cell_type": "code",
   "execution_count": null,
   "id": "270600ef",
   "metadata": {
    "scrolled": true
   },
   "outputs": [],
   "source": [
    "score_columns = ['change_in_teaching_learning_and_resources', 'change_in_research_and_professional_practice', 'change_in_graduation_outcomes', 'change_in_outreach_and_inclusivity']\n",
    "\n",
    "for col in score_columns:\n",
    "    sns.scatterplot(data=df, x='rounded_prior_perception', y=col)\n",
    "    col_name = format_column_name(col)\n",
    "    plt.title(f'Peer Perception vs {col_name}')\n",
    "    plt.xlabel('Rounded Peer Perception')\n",
    "    plt.ylabel(col_name)\n",
    "    plt.show()"
   ]
  },
  {
   "cell_type": "code",
   "execution_count": null,
   "id": "3f21344e",
   "metadata": {
    "scrolled": true
   },
   "outputs": [],
   "source": [
    "score_columns = ['change_in_teaching_learning_and_resources', 'change_in_research_and_professional_practice', 'change_in_graduation_outcomes', 'change_in_outreach_and_inclusivity']\n",
    "\n",
    "for col in score_columns:\n",
    "    sns.scatterplot(data=df, x='change_in_peer_perception', y=col)\n",
    "    col_name = format_column_name(col)\n",
    "    plt.title(f'Peer Perception vs {col_name}')\n",
    "    plt.xlabel('Change in Peer Perception')\n",
    "    plt.ylabel(col_name)\n",
    "    plt.show()"
   ]
  },
  {
   "cell_type": "code",
   "execution_count": null,
   "id": "664ac49d",
   "metadata": {
    "scrolled": true
   },
   "outputs": [],
   "source": [
    "df['final_peer_perception'] = df['rounded_prior_perception'] + df['change_in_peer_perception']\n",
    "factors = ['change_in_teaching_learning_and_resources', 'change_in_research_and_professional_practice', \n",
    "           'change_in_graduation_outcomes', 'change_in_outreach_and_inclusivity']\n",
    "\n",
    "for factor in factors:\n",
    "    plt.figure(figsize=(10, 6))\n",
    "    \n",
    "    sns.scatterplot(data=df, x='rounded_prior_perception', y=factor, color='blue', label='Original')\n",
    "    sns.scatterplot(data=df, x='final_peer_perception', y=factor, color='red', label='Final')\n",
    "\n",
    "    for index, row in df.iterrows():\n",
    "        plt.plot([row['rounded_prior_perception'], row['final_peer_perception']],\n",
    "                 [row[factor], row[factor]], 'gray', linestyle='--')\n",
    "\n",
    "    factor_name = format_column_name(factor)\n",
    "    plt.title(f'Change in {factor_name} with Peer Perception')\n",
    "    plt.xlabel('Peer Perception')\n",
    "    plt.ylabel(f'Change in {factor_name}')\n",
    "    plt.legend()\n",
    "    plt.show()\n"
   ]
  },
  {
   "cell_type": "markdown",
   "id": "8bde8854",
   "metadata": {},
   "source": [
    "## Dataset By Prior Perception Score"
   ]
  },
  {
   "cell_type": "code",
   "execution_count": null,
   "id": "a9791f10",
   "metadata": {},
   "outputs": [],
   "source": [
    "# Query that retrieves data to be presented in the following cells.\n",
    "# ALLOW FILTERING is used to because this is an individual query in which we want to receive data from all disciplines.\n",
    "\n",
    "result_set = session.execute(\"\"\"\n",
    "    SELECT * FROM nirf_score_change_by_prior_perception WHERE rounded_prior_perception=45 ALLOW FILTERING;\n",
    "\"\"\")\n",
    "df = pd.DataFrame(list(result_set))\n",
    "df = df.round(2)\n",
    "df = df.sort_values(by='change_in_peer_perception', ascending=True)\n",
    "df"
   ]
  },
  {
   "cell_type": "code",
   "execution_count": null,
   "id": "a0ff46f7",
   "metadata": {
    "scrolled": false
   },
   "outputs": [],
   "source": [
    "plt.figure(figsize=(10, 6))\n",
    "\n",
    "sns.scatterplot(data=df, x='change_in_peer_perception', y='change_in_teaching_learning_and_resources', color='blue', label='TLR')\n",
    "sns.scatterplot(data=df, x='change_in_peer_perception', y='change_in_research_and_professional_practice', color='green', label='RPP')\n",
    "sns.scatterplot(data=df, x='change_in_peer_perception', y='change_in_graduation_outcomes', color='red', label='GO')\n",
    "sns.scatterplot(data=df, x='change_in_peer_perception', y='change_in_outreach_and_inclusivity', color='purple', label='OI')\n",
    "\n",
    "plt.title('Change in Scores vs Change in Peer Perception (Scatter Plot)')\n",
    "plt.xlabel('Change in Peer Perception')\n",
    "plt.ylabel('Scores')\n",
    "plt.legend()\n",
    "plt.show()\n"
   ]
  },
  {
   "cell_type": "code",
   "execution_count": null,
   "id": "e1ca7860",
   "metadata": {
    "scrolled": false
   },
   "outputs": [],
   "source": [
    "plt.figure(figsize=(10, 6))\n",
    "\n",
    "plt.plot(df['change_in_peer_perception'], df['change_in_teaching_learning_and_resources'], color='blue', label='TLR')\n",
    "plt.plot(df['change_in_peer_perception'], df['change_in_research_and_professional_practice'], color='green', label='RPP')\n",
    "plt.plot(df['change_in_peer_perception'], df['change_in_graduation_outcomes'], color='red', label='GO')\n",
    "plt.plot(df['change_in_peer_perception'], df['change_in_outreach_and_inclusivity'], color='purple', label='OI')\n",
    "\n",
    "plt.title('Change in Scores vs Change in Peer Perception (Line Plot)')\n",
    "plt.xlabel('Change in Peer Perception')\n",
    "plt.ylabel('Scores')\n",
    "plt.legend()\n",
    "plt.show()\n"
   ]
  },
  {
   "cell_type": "markdown",
   "id": "baaf77bb",
   "metadata": {},
   "source": [
    "Shutdown"
   ]
  },
  {
   "cell_type": "code",
   "execution_count": null,
   "id": "6fe956fb",
   "metadata": {},
   "outputs": [],
   "source": [
    "cluster.shutdown()"
   ]
  }
 ],
 "metadata": {
  "kernelspec": {
   "display_name": "Python 3 (ipykernel)",
   "language": "python",
   "name": "python3"
  },
  "language_info": {
   "codemirror_mode": {
    "name": "ipython",
    "version": 3
   },
   "file_extension": ".py",
   "mimetype": "text/x-python",
   "name": "python",
   "nbconvert_exporter": "python",
   "pygments_lexer": "ipython3",
   "version": "3.11.0"
  }
 },
 "nbformat": 4,
 "nbformat_minor": 5
}
